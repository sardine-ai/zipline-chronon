{
 "cells": [
  {
   "cell_type": "code",
   "execution_count": 1,
   "id": "50828f1f-cdcc-4d25-978b-2774d94fdb41",
   "metadata": {},
   "outputs": [
    {
     "data": {
      "text/html": [
       "<pre style=\"white-space:pre;overflow-x:auto;line-height:normal;font-family:Menlo,'DejaVu Sans Mono',consolas,'Courier New',monospace\"><span style=\"color: #000080; text-decoration-color: #000080\">Running.</span>\n",
       "</pre>\n"
      ],
      "text/plain": [
       "\u001b[34mRunning.\u001b[0m\n"
      ]
     },
     "metadata": {},
     "output_type": "display_data"
    },
    {
     "data": {
      "text/html": [
       "<pre style=\"white-space:pre;overflow-x:auto;line-height:normal;font-family:Menlo,'DejaVu Sans Mono',consolas,'Courier New',monospace\"></pre>\n"
      ],
      "text/plain": []
     },
     "metadata": {},
     "output_type": "display_data"
    }
   ],
   "source": [
    "from rich.console import Console\n",
    "from rich.live import Live\n",
    "from rich.text import Text\n",
    "import time\n",
    "\n",
    "console = Console()\n",
    "\n",
    "# Create a function to display the animation\n",
    "def animate_running():\n",
    "    with Live(refresh_per_second=4) as live:\n",
    "        for i in range(40):  # Run the loop for 10 seconds (4 frames per second)\n",
    "            num_dots = (i % 3) + 1  # Cycle through 1, 2, 3 dots\n",
    "            text = Text(f\"Running{'.' * num_dots}\", style=\"blue\")\n",
    "            live.update(text)\n",
    "            time.sleep(0.25)  # Update every 0.25 seconds\n",
    "\n",
    "# Call the function\n",
    "animate_running()"
   ]
  },
  {
   "cell_type": "code",
   "execution_count": 34,
   "id": "eb8f9012-4401-418e-acf6-71f9df6483a7",
   "metadata": {},
   "outputs": [
    {
     "name": "stdout",
     "output_type": "stream",
     "text": [
      "env: PYTHONPATH=/Users/varantzanoyan/repos/chronon/airflow/zipline:/Users/varantzanoyan/repos/chronon/api/py\n",
      "The autoreload extension is already loaded. To reload it, use:\n",
      "  %reload_ext autoreload\n"
     ]
    }
   ],
   "source": [
    "import sys\n",
    "sys.path.append('/Users/varantzanoyan/repos/chronon/api/py')\n",
    "%env PYTHONPATH=/Users/varantzanoyan/repos/chronon/airflow/zipline:/Users/varantzanoyan/repos/chronon/api/py\n",
    "%load_ext autoreload\n",
    "%autoreload 2\n",
    "from group_bys.sample_team.transactions import v1\n",
    "from joins.sample_team.chargeback import v1 as chargeback_features"
   ]
  },
  {
   "cell_type": "code",
   "execution_count": 36,
   "id": "037723e6-5700-428d-b3c7-67628ce44bf6",
   "metadata": {},
   "outputs": [
    {
     "data": {
      "text/html": [
       "<pre style=\"white-space:pre;overflow-x:auto;line-height:normal;font-family:Menlo,'DejaVu Sans Mono',consolas,'Courier New',monospace\">Running: None\n",
       "├── compute left (<span style=\"color: #008000; text-decoration-color: #008000\">SUCCEEDED</span>) <a href=\"http://localhost:8000/compute_left.log\" target=\"_blank\">compute_left.log</a>\n",
       "│   └── join parts\n",
       "│       └── compute sample_team.transactions.v1 (<span style=\"color: #008000; text-decoration-color: #008000\">SUCCEEDED</span>) <a href=\"http://localhost:8000/compute_sample_team.transactions.v1.log\" target=\"_blank\">compute_sample_team.transactions.v1.log</a>\n",
       "└── compute final (<span style=\"color: #008000; text-decoration-color: #008000\">SUCCEEDED</span>) <a href=\"http://localhost:8000/compute_final.log\" target=\"_blank\">compute_final.log</a>\n",
       "</pre>\n"
      ],
      "text/plain": [
       "Running: None\n",
       "├── compute left (\u001b[32mSUCCEEDED\u001b[0m) \u001b]8;id=40607;http://localhost:8000/compute_left.log\u001b\\compute_left.log\u001b]8;;\u001b\\\n",
       "│   └── join parts\n",
       "│       └── compute sample_team.transactions.v1 (\u001b[32mSUCCEEDED\u001b[0m) \u001b]8;id=11597;http://localhost:8000/compute_sample_team.transactions.v1.log\u001b\\compute_sample_team.transactions.v1.log\u001b]8;;\u001b\\\n",
       "└── compute final (\u001b[32mSUCCEEDED\u001b[0m) \u001b]8;id=429114;http://localhost:8000/compute_final.log\u001b\\compute_final.log\u001b]8;;\u001b\\\n"
      ]
     },
     "metadata": {},
     "output_type": "display_data"
    },
    {
     "data": {
      "text/html": [
       "<pre style=\"white-space:pre;overflow-x:auto;line-height:normal;font-family:Menlo,'DejaVu Sans Mono',consolas,'Courier New',monospace\"></pre>\n"
      ],
      "text/plain": []
     },
     "metadata": {},
     "output_type": "display_data"
    }
   ],
   "source": [
    "from joins.sample_team.chargeback import v1 as chargeback_features\n",
    "chargeback_features.run()"
   ]
  },
  {
   "cell_type": "code",
   "execution_count": 1,
   "id": "372851ac-6760-4167-bd00-2ad2301cb0e2",
   "metadata": {},
   "outputs": [
    {
     "ename": "NameError",
     "evalue": "name 'chargeback_features' is not defined",
     "output_type": "error",
     "traceback": [
      "\u001b[0;31m---------------------------------------------------------------------------\u001b[0m",
      "\u001b[0;31mNameError\u001b[0m                                 Traceback (most recent call last)",
      "Cell \u001b[0;32mIn[1], line 109\u001b[0m\n\u001b[1;32m    107\u001b[0m \u001b[38;5;66;03m# Example usage\u001b[39;00m\n\u001b[1;32m    108\u001b[0m \u001b[38;5;28;01mif\u001b[39;00m \u001b[38;5;18m__name__\u001b[39m \u001b[38;5;241m==\u001b[39m \u001b[38;5;124m\"\u001b[39m\u001b[38;5;124m__main__\u001b[39m\u001b[38;5;124m\"\u001b[39m:\n\u001b[0;32m--> 109\u001b[0m     run(\u001b[43mchargeback_features\u001b[49m)\n",
      "\u001b[0;31mNameError\u001b[0m: name 'chargeback_features' is not defined"
     ]
    }
   ],
   "source": [
    "import time\n",
    "import threading\n",
    "from pathlib import Path\n",
    "from rich.console import Console\n",
    "from rich.tree import Tree\n",
    "from rich.live import Live\n",
    "from rich.markup import escape\n",
    "\n",
    "console = Console()\n",
    "\n",
    "class Task:\n",
    "    def __init__(self, name, command):\n",
    "        self.name = name\n",
    "        self.command = command\n",
    "        self.status = \"WAITING\"\n",
    "        self.done = False\n",
    "        self.animation_step = 0\n",
    "        self.log_file = Path.home() / \"logs\" / f\"{name.replace(' ', '_')}.log\"\n",
    "\n",
    "    def run(self):\n",
    "        self.status = \"RUNNING\"\n",
    "        self.execute_command()\n",
    "        self.status = \"SUCCEEDED\"\n",
    "        self.done = True\n",
    "\n",
    "    def execute_command(self):\n",
    "        print(f\"Executing: {self.command}\")\n",
    "        time.sleep(2)  # Simulate task execution\n",
    "\n",
    "def get_status_display(task):\n",
    "    color = {\n",
    "        \"WAITING\": \"yellow\",\n",
    "        \"RUNNING\": \"blue\",\n",
    "        \"SUCCEEDED\": \"green\"\n",
    "    }.get(task.status, \"white\")\n",
    "\n",
    "    if task.status == \"RUNNING\":\n",
    "        dots = \".\" * ((task.animation_step % 3) + 1)\n",
    "        task.animation_step += 1\n",
    "        status_text = f\"[{color}]RUNNING{dots: <3}[/{color}]\"\n",
    "    else:\n",
    "        status_text = f\"[{color}]{task.status}[/{color}]\"\n",
    "    \n",
    "    log_path = task.log_file.resolve()\n",
    "    file_url = f\"file://{log_path}\"\n",
    "    link_text = f\"[link={file_url}]{escape(str(log_path))}[/link]\"\n",
    "    return f\"{task.name} ({status_text}) {link_text}\"\n",
    "\n",
    "def create_dag_tree(tasks):\n",
    "    tree = Tree(\"Join DAG Visualization\")\n",
    "    left_branch = tree.add(get_status_display(tasks[0]))\n",
    "    parts_branch = left_branch.add(\"join parts\")\n",
    "    for task in tasks[1:-1]:\n",
    "        parts_branch.add(get_status_display(task))\n",
    "    tree.add(get_status_display(tasks[-1]))\n",
    "    return tree\n",
    "\n",
    "def run_task(task):\n",
    "    task.run()\n",
    "\n",
    "def animate_tasks(live, tasks):\n",
    "    while any(task.status == \"RUNNING\" for task in tasks):\n",
    "        for task in tasks:\n",
    "            if task.status == \"RUNNING\":\n",
    "                task.animation_step += 1\n",
    "        live.update(create_dag_tree(tasks))\n",
    "        time.sleep(0.25)\n",
    "\n",
    "def run(join):\n",
    "    tasks = [\n",
    "        Task(\"compute left\", \"echo 'computing left...'\"),\n",
    "        *[Task(f\"compute {part.groupBy.metaData.name}\", f\"echo 'computing {part.groupBy.metaData.name}...'\") for part in join.joinParts],\n",
    "        Task(\"compute final\", \"echo 'computing final...'\")\n",
    "    ]\n",
    "    \n",
    "    with Live(create_dag_tree(tasks), refresh_per_second=4) as live:\n",
    "        # Run compute left\n",
    "        tasks[0].status = \"RUNNING\"\n",
    "        left_thread = threading.Thread(target=run_task, args=(tasks[0],))\n",
    "        left_thread.start()\n",
    "        animate_tasks(live, tasks)\n",
    "        left_thread.join()\n",
    "        \n",
    "        # Run join parts in parallel\n",
    "        for task in tasks[1:-1]:\n",
    "            task.status = \"RUNNING\"\n",
    "        threads = [threading.Thread(target=run_task, args=(task,)) for task in tasks[1:-1]]\n",
    "        for thread in threads:\n",
    "            thread.start()\n",
    "        animate_tasks(live, tasks)\n",
    "        for thread in threads:\n",
    "            thread.join()\n",
    "        \n",
    "        # Run compute final\n",
    "        tasks[-1].status = \"RUNNING\"\n",
    "        final_thread = threading.Thread(target=run_task, args=(tasks[-1],))\n",
    "        final_thread.start()\n",
    "        animate_tasks(live, tasks)\n",
    "        final_thread.join()\n",
    "        \n",
    "        # Ensure final state is displayed\n",
    "        live.update(create_dag_tree(tasks))\n",
    "        \n",
    "        # Add a small delay to ensure the final state is visible\n",
    "        time.sleep(0.5)\n",
    "\n",
    "# Example usage\n",
    "if __name__ == \"__main__\":\n",
    "    run(chargeback_features)"
   ]
  },
  {
   "cell_type": "code",
   "execution_count": 22,
   "id": "36b11c0e-13a9-4f03-8010-395c550ece2a",
   "metadata": {},
   "outputs": [
    {
     "name": "stdout",
     "output_type": "stream",
     "text": [
      "file:////Users/varantzanoyan/logs/compute_left.log\n"
     ]
    }
   ],
   "source": [
    "! echo \"file:////Users/varantzanoyan/logs/compute_left.log\""
   ]
  },
  {
   "cell_type": "code",
   "execution_count": 24,
   "id": "f57ae48a-34b4-4fab-bf5b-88190a37e866",
   "metadata": {},
   "outputs": [
    {
     "name": "stdout",
     "output_type": "stream",
     "text": [
      "<a href=\"file:///{log_path}\">Link 1</a>\n"
     ]
    }
   ],
   "source": [
    "print( \"<a href=\\\"file:///{log_path}\\\">Link 1</a>\")"
   ]
  },
  {
   "cell_type": "code",
   "execution_count": 33,
   "id": "0c300937-565b-4ba7-8523-e44b2b54d1a8",
   "metadata": {},
   "outputs": [
    {
     "name": "stdout",
     "output_type": "stream",
     "text": [
      "/Users/varantzanoyan/repos/chronon/airflow/zipline/teams.json\n"
     ]
    },
    {
     "data": {
      "text/html": [
       "<a href='teams.json' target='_blank'>teams.json</a><br>"
      ],
      "text/plain": [
       "/Users/varantzanoyan/repos/chronon/airflow/zipline/teams.json"
      ]
     },
     "metadata": {},
     "output_type": "display_data"
    },
    {
     "name": "stdout",
     "output_type": "stream",
     "text": [
      "None\n"
     ]
    }
   ],
   "source": [
    "from IPython.display import FileLink\n",
    "\n",
    "# Create a FileLink object pointing to the desired file\n",
    "file_link = FileLink(\"teams.json\")\n",
    "\n",
    "print(file_link)\n",
    "\n",
    "# Display the link in the output\n",
    "x = display(file_link)\n",
    "print(x)"
   ]
  },
  {
   "cell_type": "code",
   "execution_count": null,
   "id": "1bcb872e-2e3b-4b32-aaa9-e4cddc451503",
   "metadata": {},
   "outputs": [],
   "source": []
  }
 ],
 "metadata": {
  "kernelspec": {
   "display_name": "Python 3 (ipykernel)",
   "language": "python",
   "name": "python3"
  },
  "language_info": {
   "codemirror_mode": {
    "name": "ipython",
    "version": 3
   },
   "file_extension": ".py",
   "mimetype": "text/x-python",
   "name": "python",
   "nbconvert_exporter": "python",
   "pygments_lexer": "ipython3",
   "version": "3.12.4"
  }
 },
 "nbformat": 4,
 "nbformat_minor": 5
}
