{
 "cells": [
  {
   "cell_type": "code",
   "execution_count": 27,
   "metadata": {},
   "outputs": [
    {
     "name": "stdout",
     "output_type": "stream",
     "text": [
      "env: PYTHONPATH=/Users/varantzanoyan/repos/chronon/airflow/zipline:/Users/varantzanoyan/repos/chronon/api/py\n"
     ]
    }
   ],
   "source": [
    "import sys\n",
    "sys.path.append('/Users/varantzanoyan/repos/chronon/api/py')\n",
    "%env PYTHONPATH=/Users/varantzanoyan/repos/chronon/airflow/zipline:/Users/varantzanoyan/repos/chronon/api/py\n",
    "%load_ext autoreload\n",
    "%autoreload 2"
   ]
  },
  {
   "cell_type": "code",
   "execution_count": 8,
   "metadata": {},
   "outputs": [
    {
     "name": "stdout",
     "output_type": "stream",
     "text": [
      "Collecting thrift==0.20\n",
      "  Downloading thrift-0.20.0.tar.gz (62 kB)\n",
      "\u001b[2K     \u001b[90m━━━━━━━━━━━━━━━━━━━━━━━━━━━━━━━━━━━━━━━━\u001b[0m \u001b[32m62.3/62.3 kB\u001b[0m \u001b[31m2.5 MB/s\u001b[0m eta \u001b[36m0:00:00\u001b[0m\n",
      "\u001b[?25h  Installing build dependencies ... \u001b[?25ldone\n",
      "\u001b[?25h  Getting requirements to build wheel ... \u001b[?25ldone\n",
      "\u001b[?25h  Preparing metadata (pyproject.toml) ... \u001b[?25ldone\n",
      "\u001b[?25hRequirement already satisfied: six>=1.7.2 in /Users/varantzanoyan/Library/Python/3.11/lib/python/site-packages (from thrift==0.20) (1.16.0)\n",
      "Building wheels for collected packages: thrift\n",
      "  Building wheel for thrift (pyproject.toml) ... \u001b[?25ldone\n",
      "\u001b[?25h  Created wheel for thrift: filename=thrift-0.20.0-cp311-cp311-macosx_10_9_universal2.whl size=243815 sha256=f82f4f8fefdd473f14f35cdbe0c56e6e27fdc5aa7f523c9f2d0e449cbf19ae5f\n",
      "  Stored in directory: /Users/varantzanoyan/Library/Caches/pip/wheels/e2/bc/11/b3431cfbf4afeb954480926b2f46fdc56082b8b234d6d4208b\n",
      "Successfully built thrift\n",
      "Installing collected packages: thrift\n",
      "Successfully installed thrift-0.20.0\n",
      "\n",
      "\u001b[1m[\u001b[0m\u001b[34;49mnotice\u001b[0m\u001b[1;39;49m]\u001b[0m\u001b[39;49m A new release of pip is available: \u001b[0m\u001b[31;49m23.2.1\u001b[0m\u001b[39;49m -> \u001b[0m\u001b[32;49m24.2\u001b[0m\n",
      "\u001b[1m[\u001b[0m\u001b[34;49mnotice\u001b[0m\u001b[1;39;49m]\u001b[0m\u001b[39;49m To update, run: \u001b[0m\u001b[32;49mpython3 -m pip install --upgrade pip\u001b[0m\n",
      "Note: you may need to restart the kernel to use updated packages.\n"
     ]
    }
   ],
   "source": [
    "%pip install thrift==0.20"
   ]
  },
  {
   "cell_type": "code",
   "execution_count": 29,
   "metadata": {},
   "outputs": [
    {
     "name": "stdout",
     "output_type": "stream",
     "text": [
      "/Users/varantzanoyan/repos/chronon/api/py/ai/chronon/api/ttypes.py\n"
     ]
    },
    {
     "ename": "AttributeError",
     "evalue": "'Join' object has no attribute 'run'",
     "output_type": "error",
     "traceback": [
      "\u001b[0;31m---------------------------------------------------------------------------\u001b[0m",
      "\u001b[0;31mAttributeError\u001b[0m                            Traceback (most recent call last)",
      "Cell \u001b[0;32mIn[29], line 4\u001b[0m\n\u001b[1;32m      2\u001b[0m \u001b[38;5;28;01mfrom\u001b[39;00m \u001b[38;5;21;01mjoins\u001b[39;00m\u001b[38;5;21;01m.\u001b[39;00m\u001b[38;5;21;01msample_team\u001b[39;00m\u001b[38;5;21;01m.\u001b[39;00m\u001b[38;5;21;01mchargeback\u001b[39;00m \u001b[38;5;28;01mimport\u001b[39;00m v1 \u001b[38;5;28;01mas\u001b[39;00m chargeback_features\n\u001b[1;32m      3\u001b[0m \u001b[38;5;28mprint\u001b[39m(get_module_path(chargeback_features))\n\u001b[0;32m----> 4\u001b[0m \u001b[43mchargeback_features\u001b[49m\u001b[38;5;241;43m.\u001b[39;49m\u001b[43mrun\u001b[49m(\u001b[38;5;124m\"\u001b[39m\u001b[38;5;124m2024-01-10\u001b[39m\u001b[38;5;124m\"\u001b[39m)\n",
      "\u001b[0;31mAttributeError\u001b[0m: 'Join' object has no attribute 'run'"
     ]
    }
   ],
   "source": [
    "from group_bys.sample_team.transactions import v1\n",
    "from joins.sample_team.chargeback import v1 as chargeback_features\n",
    "print(get_module_path(chargeback_features))\n",
    "chargeback_features.run(\"2024-01-10\")"
   ]
  },
  {
   "cell_type": "code",
   "execution_count": 18,
   "metadata": {},
   "outputs": [],
   "source": [
    "def get_module_path(cls):\n",
    "    module_name = cls.__module__\n",
    "    module = sys.modules[module_name]\n",
    "    return module.__file__"
   ]
  },
  {
   "cell_type": "code",
   "execution_count": 15,
   "metadata": {},
   "outputs": [
    {
     "name": "stdout",
     "output_type": "stream",
     "text": [
      "/Users/varantzanoyan/repos/chronon/airflow/zipline\n",
      "['/opt/homebrew/Cellar/python@3.12/3.12.4/Frameworks/Python.framework/Versions/3.12/lib/python312.zip', '/opt/homebrew/Cellar/python@3.12/3.12.4/Frameworks/Python.framework/Versions/3.12/lib/python3.12', '/opt/homebrew/Cellar/python@3.12/3.12.4/Frameworks/Python.framework/Versions/3.12/lib/python3.12/lib-dynload', '', '/Users/varantzanoyan/repos/chronon/.venv/lib/python3.12/site-packages', '/Users/varantzanoyan/repos/chronon/api/py/ai/chronon/repo', '/Users/varantzanoyan/repos/chronon/api/py/ai/chronon/repo', '/Users/varantzanoyan/repos/chronon/api/py/ai/chronon/repo', '/Users/varantzanoyan/repos/chronon/api/py/ai/chronon/repo', '/Users/varantzanoyan/repos/chronon/api/py/ai/chronon/repo', '/Users/varantzanoyan/repos/chronon/api/py/ai/chronon/repo']\n",
      "  Using chronon root path - \u001b[34m/Users/varantzanoyan/repos/chronon/airflow/zipline\u001b[0m\n",
      "     Input group_bys from - \u001b[34m/Users/varantzanoyan/repos/chronon/airflow/zipline/group_bys/sample_team/transactions.py\u001b[0m\n",
      "             GroupBy Team - \u001b[34msample_team\u001b[0m\n",
      "             GroupBy Name - \u001b[34mtransactions.v1\u001b[0m\n",
      "\u001b[33mSkipping GroupBy transactions.v1: GroupBys should not be materialized if batch upload job is not needed\u001b[0m\n"
     ]
    }
   ],
   "source": [
    "!pwd\n",
    "import sys\n",
    "sys.path.append('/Users/varantzanoyan/repos/chronon/airflow/zipline')\n",
    "print(sys.path)\n",
    "!compile.py --conf group_bys/sample_team/transactions.py"
   ]
  },
  {
   "cell_type": "code",
   "execution_count": 12,
   "metadata": {},
   "outputs": [
    {
     "name": "stdout",
     "output_type": "stream",
     "text": [
      "env: PYTHONPATH=/Users/varantzanoyan/repos/chronon/airflow/zipline\n",
      "/Users/varantzanoyan/repos/chronon/airflow/zipline\n"
     ]
    }
   ],
   "source": [
    "\n",
    "!echo \"$PYTHONPATH\""
   ]
  },
  {
   "cell_type": "code",
   "execution_count": null,
   "metadata": {},
   "outputs": [],
   "source": []
  }
 ],
 "metadata": {
  "kernelspec": {
   "display_name": ".venv",
   "language": "python",
   "name": "python3"
  },
  "language_info": {
   "codemirror_mode": {
    "name": "ipython",
    "version": 3
   },
   "file_extension": ".py",
   "mimetype": "text/x-python",
   "name": "python",
   "nbconvert_exporter": "python",
   "pygments_lexer": "ipython3",
   "version": "3.11.6"
  }
 },
 "nbformat": 4,
 "nbformat_minor": 2
}
