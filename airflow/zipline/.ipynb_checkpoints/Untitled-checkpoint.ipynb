{
 "cells": [
  {
   "cell_type": "code",
   "execution_count": 1,
   "id": "50828f1f-cdcc-4d25-978b-2774d94fdb41",
   "metadata": {},
   "outputs": [
    {
     "data": {
      "text/html": [
       "<pre style=\"white-space:pre;overflow-x:auto;line-height:normal;font-family:Menlo,'DejaVu Sans Mono',consolas,'Courier New',monospace\"><span style=\"color: #000080; text-decoration-color: #000080\">Running.</span>\n",
       "</pre>\n"
      ],
      "text/plain": [
       "\u001b[34mRunning.\u001b[0m\n"
      ]
     },
     "metadata": {},
     "output_type": "display_data"
    },
    {
     "data": {
      "text/html": [
       "<pre style=\"white-space:pre;overflow-x:auto;line-height:normal;font-family:Menlo,'DejaVu Sans Mono',consolas,'Courier New',monospace\"></pre>\n"
      ],
      "text/plain": []
     },
     "metadata": {},
     "output_type": "display_data"
    }
   ],
   "source": [
    "from rich.console import Console\n",
    "from rich.live import Live\n",
    "from rich.text import Text\n",
    "import time\n",
    "\n",
    "console = Console()\n",
    "\n",
    "# Create a function to display the animation\n",
    "def animate_running():\n",
    "    with Live(refresh_per_second=4) as live:\n",
    "        for i in range(40):  # Run the loop for 10 seconds (4 frames per second)\n",
    "            num_dots = (i % 3) + 1  # Cycle through 1, 2, 3 dots\n",
    "            text = Text(f\"Running{'.' * num_dots}\", style=\"blue\")\n",
    "            live.update(text)\n",
    "            time.sleep(0.25)  # Update every 0.25 seconds\n",
    "\n",
    "# Call the function\n",
    "animate_running()"
   ]
  },
  {
   "cell_type": "code",
   "execution_count": 7,
   "id": "eb8f9012-4401-418e-acf6-71f9df6483a7",
   "metadata": {},
   "outputs": [
    {
     "name": "stdout",
     "output_type": "stream",
     "text": [
      "env: PYTHONPATH=/Users/varantzanoyan/repos/chronon/airflow/zipline:/Users/varantzanoyan/repos/chronon/api/py\n",
      "+++ method binding run into join +++\n"
     ]
    }
   ],
   "source": [
    "import sys\n",
    "sys.path.append('/Users/varantzanoyan/repos/chronon/api/py')\n",
    "%env PYTHONPATH=/Users/varantzanoyan/repos/chronon/airflow/zipline:/Users/varantzanoyan/repos/chronon/api/py\n",
    "%load_ext autoreload\n",
    "%autoreload 2\n",
    "from group_bys.sample_team.transactions import v1\n",
    "from joins.sample_team.chargeback import v1 as chargeback_features"
   ]
  },
  {
   "cell_type": "code",
   "execution_count": 12,
   "id": "372851ac-6760-4167-bd00-2ad2301cb0e2",
   "metadata": {},
   "outputs": [
    {
     "ename": "AttributeError",
     "evalue": "'JoinPart' object has no attribute 'metaData'",
     "output_type": "error",
     "traceback": [
      "\u001b[0;31m---------------------------------------------------------------------------\u001b[0m",
      "\u001b[0;31mAttributeError\u001b[0m                            Traceback (most recent call last)",
      "Cell \u001b[0;32mIn[12], line 106\u001b[0m\n\u001b[1;32m    104\u001b[0m \u001b[38;5;66;03m# Example usage\u001b[39;00m\n\u001b[1;32m    105\u001b[0m \u001b[38;5;28;01mif\u001b[39;00m \u001b[38;5;18m__name__\u001b[39m \u001b[38;5;241m==\u001b[39m \u001b[38;5;124m\"\u001b[39m\u001b[38;5;124m__main__\u001b[39m\u001b[38;5;124m\"\u001b[39m:\n\u001b[0;32m--> 106\u001b[0m     \u001b[43mrun\u001b[49m\u001b[43m(\u001b[49m\u001b[43mchargeback_features\u001b[49m\u001b[43m)\u001b[49m\n",
      "Cell \u001b[0;32mIn[12], line 75\u001b[0m, in \u001b[0;36mrun\u001b[0;34m(join)\u001b[0m\n\u001b[1;32m     72\u001b[0m \u001b[38;5;28;01mdef\u001b[39;00m \u001b[38;5;21mrun\u001b[39m(join):\n\u001b[1;32m     73\u001b[0m     tasks \u001b[38;5;241m=\u001b[39m [\n\u001b[1;32m     74\u001b[0m         Task(\u001b[38;5;124m\"\u001b[39m\u001b[38;5;124mcompute left\u001b[39m\u001b[38;5;124m\"\u001b[39m, \u001b[38;5;124m\"\u001b[39m\u001b[38;5;124mecho \u001b[39m\u001b[38;5;124m'\u001b[39m\u001b[38;5;124mcomputing left...\u001b[39m\u001b[38;5;124m'\u001b[39m\u001b[38;5;124m\"\u001b[39m),\n\u001b[0;32m---> 75\u001b[0m         \u001b[38;5;241m*\u001b[39m[Task(\u001b[38;5;124mf\u001b[39m\u001b[38;5;124m\"\u001b[39m\u001b[38;5;124mcompute \u001b[39m\u001b[38;5;132;01m{\u001b[39;00m\u001b[43mpart\u001b[49m\u001b[38;5;241;43m.\u001b[39;49m\u001b[43mmetaData\u001b[49m[\u001b[38;5;124m'\u001b[39m\u001b[38;5;124mname\u001b[39m\u001b[38;5;124m'\u001b[39m]\u001b[38;5;132;01m}\u001b[39;00m\u001b[38;5;124m\"\u001b[39m, \u001b[38;5;124mf\u001b[39m\u001b[38;5;124m\"\u001b[39m\u001b[38;5;124mecho \u001b[39m\u001b[38;5;124m'\u001b[39m\u001b[38;5;124mcomputing \u001b[39m\u001b[38;5;132;01m{\u001b[39;00mpart\u001b[38;5;241m.\u001b[39mmetaData[\u001b[38;5;124m'\u001b[39m\u001b[38;5;124mname\u001b[39m\u001b[38;5;124m'\u001b[39m]\u001b[38;5;132;01m}\u001b[39;00m\u001b[38;5;124m...\u001b[39m\u001b[38;5;124m'\u001b[39m\u001b[38;5;124m\"\u001b[39m) \u001b[38;5;28;01mfor\u001b[39;00m part \u001b[38;5;129;01min\u001b[39;00m join\u001b[38;5;241m.\u001b[39mjoinParts],\n\u001b[1;32m     76\u001b[0m         Task(\u001b[38;5;124m\"\u001b[39m\u001b[38;5;124mcompute final\u001b[39m\u001b[38;5;124m\"\u001b[39m, \u001b[38;5;124m\"\u001b[39m\u001b[38;5;124mecho \u001b[39m\u001b[38;5;124m'\u001b[39m\u001b[38;5;124mcomputing final...\u001b[39m\u001b[38;5;124m'\u001b[39m\u001b[38;5;124m\"\u001b[39m)\n\u001b[1;32m     77\u001b[0m     ]\n\u001b[1;32m     79\u001b[0m     \u001b[38;5;28;01mwith\u001b[39;00m Live(create_dag_tree(tasks), refresh_per_second\u001b[38;5;241m=\u001b[39m\u001b[38;5;241m4\u001b[39m) \u001b[38;5;28;01mas\u001b[39;00m live:\n\u001b[1;32m     80\u001b[0m         \u001b[38;5;66;03m# Run compute left\u001b[39;00m\n\u001b[1;32m     81\u001b[0m         run_task(tasks[\u001b[38;5;241m0\u001b[39m], live, tasks)\n",
      "\u001b[0;31mAttributeError\u001b[0m: 'JoinPart' object has no attribute 'metaData'"
     ]
    }
   ],
   "source": [
    "import time\n",
    "import threading\n",
    "from pathlib import Path\n",
    "from rich.console import Console\n",
    "from rich.tree import Tree\n",
    "from rich.live import Live\n",
    "from rich.markup import escape\n",
    "\n",
    "console = Console()\n",
    "\n",
    "class JoinPart:\n",
    "    def __init__(self, name):\n",
    "        self.metaData = {\"name\": name}\n",
    "\n",
    "class Join:\n",
    "    def __init__(self, join_parts):\n",
    "        self.joinParts = join_parts\n",
    "\n",
    "class Task:\n",
    "    def __init__(self, name, command):\n",
    "        self.name = name\n",
    "        self.command = command\n",
    "        self.status = \"WAITING\"\n",
    "        self.done = False\n",
    "        self.animation_step = 0\n",
    "        self.log_file = Path.home() / \"logs\" / f\"{name}.log\"\n",
    "\n",
    "    def run(self):\n",
    "        self.status = \"RUNNING\"\n",
    "        self.execute_command()\n",
    "        self.status = \"SUCCEEDED\"\n",
    "        self.done = True\n",
    "\n",
    "    def execute_command(self):\n",
    "        print(f\"Executing: {self.command}\")\n",
    "        time.sleep(2)  # Simulate task execution\n",
    "\n",
    "def get_status_display(task):\n",
    "    color = {\n",
    "        \"WAITING\": \"yellow\",\n",
    "        \"RUNNING\": \"blue\",\n",
    "        \"SUCCEEDED\": \"green\"\n",
    "    }.get(task.status, \"white\")\n",
    "\n",
    "    if task.status == \"RUNNING\":\n",
    "        dots = \".\" * ((task.animation_step % 3) + 1)\n",
    "        task.animation_step += 1\n",
    "        status_text = f\"[{color}]RUNNING{dots: <3}[/{color}]\"\n",
    "    else:\n",
    "        status_text = f\"[{color}]{task.status}[/{color}]\"\n",
    "    \n",
    "    log_path = task.log_file.resolve()\n",
    "    file_url = f\"file://{log_path}\"\n",
    "    link_text = f\"[link={file_url}]{escape(str(log_path))}[/link]\"\n",
    "    return f\"({status_text}) {link_text}\"\n",
    "\n",
    "def create_dag_tree(tasks):\n",
    "    tree = Tree(\"Join DAG Visualization\")\n",
    "    left_branch = tree.add(f\"{tasks[0].name} {get_status_display(tasks[0])}\")\n",
    "    parts_branch = left_branch.add(\"join parts\")\n",
    "    for task in tasks[1:-1]:\n",
    "        parts_branch.add(f\"{task.name} {get_status_display(task)}\")\n",
    "    tree.add(f\"{tasks[-1].name} {get_status_display(tasks[-1])}\")\n",
    "    return tree\n",
    "\n",
    "def run_task(task, live, tasks):\n",
    "    task.status = \"RUNNING\"\n",
    "    live.update(create_dag_tree(tasks))\n",
    "    task.run()\n",
    "    live.update(create_dag_tree(tasks))\n",
    "\n",
    "def run(join):\n",
    "    tasks = [\n",
    "        Task(\"compute left\", \"echo 'computing left...'\"),\n",
    "        *[Task(f\"compute {part.groupBy.metaData['name']}\", f\"echo 'computing {part.groupBy.metaData['name']}...'\") for part in join.joinParts],\n",
    "        Task(\"compute final\", \"echo 'computing final...'\")\n",
    "    ]\n",
    "    \n",
    "    with Live(create_dag_tree(tasks), refresh_per_second=4) as live:\n",
    "        # Run compute left\n",
    "        run_task(tasks[0], live, tasks)\n",
    "        \n",
    "        # Run join parts in parallel\n",
    "        threads = []\n",
    "        for task in tasks[1:-1]:\n",
    "            thread = threading.Thread(target=run_task, args=(task, live, tasks))\n",
    "            threads.append(thread)\n",
    "            thread.start()\n",
    "        \n",
    "        # Animate running tasks\n",
    "        while any(not task.done for task in tasks[1:-1]):\n",
    "            live.update(create_dag_tree(tasks))\n",
    "            time.sleep(0.25)\n",
    "        \n",
    "        for thread in threads:\n",
    "            thread.join()\n",
    "        \n",
    "        # Run compute final\n",
    "        run_task(tasks[-1], live, tasks)\n",
    "\n",
    "    print(\"\\nFinal DAG state:\")\n",
    "    rprint(create_dag_tree(tasks))\n",
    "\n",
    "# Example usage\n",
    "if __name__ == \"__main__\":\n",
    "    run(chargeback_features)"
   ]
  },
  {
   "cell_type": "code",
   "execution_count": null,
   "id": "36b11c0e-13a9-4f03-8010-395c550ece2a",
   "metadata": {},
   "outputs": [],
   "source": []
  }
 ],
 "metadata": {
  "kernelspec": {
   "display_name": "Python 3 (ipykernel)",
   "language": "python",
   "name": "python3"
  },
  "language_info": {
   "codemirror_mode": {
    "name": "ipython",
    "version": 3
   },
   "file_extension": ".py",
   "mimetype": "text/x-python",
   "name": "python",
   "nbconvert_exporter": "python",
   "pygments_lexer": "ipython3",
   "version": "3.12.4"
  }
 },
 "nbformat": 4,
 "nbformat_minor": 5
}
