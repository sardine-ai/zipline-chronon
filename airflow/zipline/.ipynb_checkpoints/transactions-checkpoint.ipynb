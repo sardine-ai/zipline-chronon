{
 "cells": [
  {
   "cell_type": "code",
   "execution_count": 17,
   "metadata": {},
   "outputs": [
    {
     "name": "stdout",
     "output_type": "stream",
     "text": [
      "env: PYTHONPATH=/Users/varantzanoyan/repos/chronon/airflow/zipline:/Users/varantzanoyan/repos/chronon/api/py\n",
      "The autoreload extension is already loaded. To reload it, use:\n",
      "  %reload_ext autoreload\n"
     ]
    }
   ],
   "source": [
    "import sys\n",
    "sys.path.append('/Users/varantzanoyan/repos/chronon/api/py')\n",
    "%env PYTHONPATH=/Users/varantzanoyan/repos/chronon/airflow/zipline:/Users/varantzanoyan/repos/chronon/api/py\n",
    "%load_ext autoreload\n",
    "%autoreload 2"
   ]
  },
  {
   "cell_type": "code",
   "execution_count": 19,
   "metadata": {},
   "outputs": [],
   "source": [
    "from group_bys.sample_team.transactions import v1\n",
    "from joins.sample_team.chargeback import v1 as chargeback_features\n",
    "chargeback_features.run2(\"2024-01-10\")"
   ]
  },
  {
   "cell_type": "code",
   "execution_count": 10,
   "metadata": {},
   "outputs": [
    {
     "name": "stdout",
     "output_type": "stream",
     "text": [
      "/Users/varantzanoyan/repos/chronon/airflow/zipline\n",
      "['/opt/homebrew/Cellar/python@3.12/3.12.4/Frameworks/Python.framework/Versions/3.12/lib/python312.zip', '/opt/homebrew/Cellar/python@3.12/3.12.4/Frameworks/Python.framework/Versions/3.12/lib/python3.12', '/opt/homebrew/Cellar/python@3.12/3.12.4/Frameworks/Python.framework/Versions/3.12/lib/python3.12/lib-dynload', '', '/Users/varantzanoyan/Library/Python/3.12/lib/python/site-packages', '/opt/homebrew/lib/python3.12/site-packages', '/Users/varantzanoyan/repos/chronon/api/py', '/Users/varantzanoyan/repos/chronon/airflow', '/Users/varantzanoyan/airflow/config', '/Users/varantzanoyan/airflow/plugins', '/Users/varantzanoyan/repos/chronon/airflow/zipline', '/Users/varantzanoyan/repos/chronon/api/py', '/Users/varantzanoyan/repos/chronon/airflow/zipline', '/Users/varantzanoyan/repos/chronon/airflow/zipline', '/Users/varantzanoyan/repos/chronon/airflow/zipline']\n",
      "  Using chronon root path - \u001b[34m/Users/varantzanoyan/repos/chronon/airflow/zipline\u001b[0m\n",
      "         Input joins from - \u001b[34m/Users/varantzanoyan/repos/chronon/airflow/zipline/joins/sample_team/chargeback.py\u001b[0m\n",
      "=========\n",
      "joins.sample_team.chargeback\n",
      "+++ method binding run into join +++\n",
      "                Join Team - \u001b[34msample_team\u001b[0m\n",
      "                Join Name - \u001b[34mchargeback.v1\u001b[0m\n",
      "          Writing Join to - \u001b[34m/Users/varantzanoyan/repos/chronon/airflow/zipline/production/joins/sample_team/chargeback.v1\u001b[0m\n",
      "Successfully wrote 1 Join objects to /Users/varantzanoyan/repos/chronon/airflow/zipline/production\n"
     ]
    }
   ],
   "source": [
    "!pwd\n",
    "import sys\n",
    "sys.path.append('/Users/varantzanoyan/repos/chronon/airflow/zipline')\n",
    "print(sys.path)\n",
    "!python3 /Users/varantzanoyan/repos/chronon/api/py/ai/chronon/repo/compile.py --conf joins/sample_team/chargeback.py"
   ]
  },
  {
   "cell_type": "code",
   "execution_count": 12,
   "metadata": {},
   "outputs": [
    {
     "name": "stdout",
     "output_type": "stream",
     "text": [
      "env: PYTHONPATH=/Users/varantzanoyan/repos/chronon/airflow/zipline\n",
      "/Users/varantzanoyan/repos/chronon/airflow/zipline\n"
     ]
    }
   ],
   "source": [
    "\n",
    "!echo \"$PYTHONPATH\""
   ]
  },
  {
   "cell_type": "code",
   "execution_count": null,
   "metadata": {},
   "outputs": [],
   "source": []
  }
 ],
 "metadata": {
  "kernelspec": {
   "display_name": ".venv",
   "language": "python",
   "name": "python3"
  },
  "language_info": {
   "codemirror_mode": {
    "name": "ipython",
    "version": 3
   },
   "file_extension": ".py",
   "mimetype": "text/x-python",
   "name": "python",
   "nbconvert_exporter": "python",
   "pygments_lexer": "ipython3",
   "version": "3.12.4"
  }
 },
 "nbformat": 4,
 "nbformat_minor": 2
}
